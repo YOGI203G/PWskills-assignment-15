{
 "cells": [
  {
   "cell_type": "markdown",
   "id": "30db562a-2707-471a-acd6-cceba4e1da4e",
   "metadata": {},
   "source": [
    "Q1. What is a database? Differentiate between SQL and NoSQL databases."
   ]
  },
  {
   "cell_type": "markdown",
   "id": "c176ee62-0ae9-4ddb-9eda-ee94742c53be",
   "metadata": {},
   "source": [
    "A database is a collection of structured data that is organized in a way that enables efficient storage, retrieval, and manipulation of information. Databases are commonly used in software applications, websites, and other information systems to store and manage large amounts of data.\n",
    "\n",
    "SQL (Structured Query Language) and NoSQL (Not Only SQL) are two different types of databases that have different architectures, data models, and query languages.\n",
    "\n",
    "SQL databases are relational databases that store data in tables with rows and columns. They use a standardized query language, SQL, to manipulate and retrieve data. SQL databases are ideal for structured data with well-defined relationships between different data points. Some examples of SQL databases include MySQL, PostgreSQL, and Oracle.\n",
    "\n",
    "NoSQL databases, on the other hand, are non-relational databases that store data in a more flexible way. They can handle unstructured, semi-structured, and structured data, and they do not require a fixed schema or data model. NoSQL databases use different data models, such as key-value, document, graph, or column-family. Examples of NoSQL databases include MongoDB, Cassandra, and Neo4j.\n",
    "\n",
    "The choice between SQL and NoSQL databases depends on the specific needs of the application or system. SQL databases are good for handling structured data that follows a specific schema, while NoSQL databases are more flexible and scalable for handling unstructured or semi-structured data. NoSQL databases are often preferred for web-scale applications and big data projects, while SQL databases are commonly used in traditional enterprise applications."
   ]
  },
  {
   "cell_type": "markdown",
   "id": "6082af78-3ce0-442a-8017-02a1e8c44721",
   "metadata": {},
   "source": [
    "Q2. What is DDL? Explain why CREATE, DROP, ALTER, and TRUNCATE are used with an example."
   ]
  },
  {
   "cell_type": "markdown",
   "id": "72a35cd4-a8b7-44a9-8376-2d13fc9defe7",
   "metadata": {},
   "source": [
    "DDL stands for Data Definition Language, which is a set of SQL commands that are used to define and manage the structure of database objects such as tables, indexes, views, and constraints. DDL statements are used to create, modify, and delete database objects, as well as to grant or revoke permissions on those objects.\n",
    "\n",
    "Here are some examples of DDL statements and their uses:\n",
    "\n",
    "CREATE: The CREATE statement is used to create new database objects, such as tables, views, indexes, and stored procedures. For example, the following SQL statement creates a new table called \"users\" with three columns: \"id\", \"name\", and \"email\":"
   ]
  },
  {
   "cell_type": "code",
   "execution_count": null,
   "id": "6bc751c6-ecdd-4e83-be9d-de363ad0f93f",
   "metadata": {},
   "outputs": [],
   "source": [
    "CREATE TABLE users (\n",
    "  id INT PRIMARY KEY,\n",
    "  name VARCHAR(50),\n",
    "  email VARCHAR(100)\n",
    ");"
   ]
  },
  {
   "cell_type": "markdown",
   "id": "405f5625-fac6-42a6-9a25-df2990955007",
   "metadata": {},
   "source": [
    "DROP: The DROP statement is used to remove an existing database object. For example, the following SQL statement drops the \"users\" table that was created in the previous example:"
   ]
  },
  {
   "cell_type": "code",
   "execution_count": null,
   "id": "c4ea46c8-058f-485a-8594-cbb6750c7d4e",
   "metadata": {},
   "outputs": [],
   "source": [
    "DROP TABLE users;"
   ]
  },
  {
   "cell_type": "markdown",
   "id": "6a28ce34-71d9-42e8-acff-98790eca42b7",
   "metadata": {},
   "source": [
    "ALTER: The ALTER statement is used to modify an existing database object, such as a table or a view. For example, the following SQL statement adds a new column called \"age\" to the \"users\" table:"
   ]
  },
  {
   "cell_type": "code",
   "execution_count": null,
   "id": "bf34dec7-f40c-4e3b-9242-03393b7c631a",
   "metadata": {},
   "outputs": [],
   "source": [
    "ALTER TABLE users ADD COLUMN age INT;"
   ]
  },
  {
   "cell_type": "markdown",
   "id": "bf24efeb-ce4e-4e47-b7ea-e70e4719b0fb",
   "metadata": {},
   "source": [
    "TRUNCATE: The TRUNCATE statement is used to delete all rows from a table, but the table structure remains intact. For example, the following SQL statement deletes all rows from the \"users\" table:"
   ]
  },
  {
   "cell_type": "code",
   "execution_count": null,
   "id": "f3f55db7-5fe7-4e63-a543-0222a13aae7c",
   "metadata": {},
   "outputs": [],
   "source": [
    "TRUNCATE TABLE users;"
   ]
  },
  {
   "cell_type": "markdown",
   "id": "18f5ab03-2541-4c9e-bb36-60055e6115b7",
   "metadata": {},
   "source": [
    "Q3. What is DML? Explain INSERT, UPDATE, and DELETE with an example."
   ]
  },
  {
   "cell_type": "markdown",
   "id": "09ce6db3-2ac8-4c3b-ab5f-e5d2c5182c19",
   "metadata": {},
   "source": [
    "DML stands for Data Manipulation Language, which is a set of SQL commands used to manipulate and modify the data stored in a database. DML statements are used to insert, update, delete, and retrieve data from a database. Here are some examples of DML statements and their uses:\n",
    "\n",
    "INSERT: The INSERT statement is used to add new rows to a table. For example, the following SQL statement inserts a new record into a table named \"users\" with the values \"ram charan\" for the name column, \"ramcharan@example.com\" for the email column, and 25 for the age column:"
   ]
  },
  {
   "cell_type": "code",
   "execution_count": null,
   "id": "324912a5-1f20-4075-85c3-c0ce35833898",
   "metadata": {},
   "outputs": [],
   "source": [
    "INSERT INTO users (name, email, age) VALUES ('ram charan', 'ramcharan@example.com', 25);"
   ]
  },
  {
   "cell_type": "markdown",
   "id": "edd8222b-f02d-4b2d-ad7f-4876166765a4",
   "metadata": {},
   "source": [
    "UPDATE: The UPDATE statement is used to modify existing data in a table. For example, the following SQL statement updates the email of the user with the name \"ram charan\" to \"ram.charan@example.com\":"
   ]
  },
  {
   "cell_type": "code",
   "execution_count": null,
   "id": "e2bc777a-2e25-4711-a1de-ecd20bd3ac26",
   "metadata": {},
   "outputs": [],
   "source": [
    "UPDATE users SET email = 'ram.charan@example.com' WHERE name = 'ram charan';"
   ]
  },
  {
   "cell_type": "markdown",
   "id": "a0551ee4-62b6-430c-b99e-4f76381680cd",
   "metadata": {},
   "source": [
    "DML stands for Data Manipulation Language, which is a set of SQL commands used to manipulate and modify the data stored in a database. DML statements are used to insert, update, delete, and retrieve data from a database. Here are some examples of DML statements and their uses:\n",
    "\n",
    "INSERT: The INSERT statement is used to add new rows to a table. For example, the following SQL statement inserts a new record into a table named \"users\" with the values \"John Doe\" for the name column, \"ramcharan@example.com\" for the email column, and 25 for the age column: sql Copy code INSERT INTO users (name, email, age) VALUES ('ram charan', 'ramcharan@example.com', 25); UPDATE: The UPDATE statement is used to modify existing data in a table. For example, the following SQL statement updates the email of the user with the name \"ram charan\" to \"ram.charan@example.com\": sql Copy code UPDATE users SET email = 'ram.charan@example.com' WHERE name = 'ram charan'; DELETE: The DELETE statement is used to remove existing data from a table. For example, the following SQL statement deletes the user with the name \"ram charan\" from the \"users\" table:"
   ]
  },
  {
   "cell_type": "code",
   "execution_count": null,
   "id": "798324f6-f2cf-45bb-accc-b073b5e0deb9",
   "metadata": {},
   "outputs": [],
   "source": [
    "DELETE FROM users WHERE name = 'ram charan';"
   ]
  },
  {
   "cell_type": "markdown",
   "id": "e2a3fb94-a765-4826-a203-4729d61854f2",
   "metadata": {},
   "source": [
    "Q4. What is DQL? Explain SELECT with an example."
   ]
  },
  {
   "cell_type": "markdown",
   "id": "6ec60773-6988-4643-8ab3-74118f82054f",
   "metadata": {},
   "source": [
    "DQL stands for Data Query Language, which is a subset of SQL used to retrieve data from a database. DQL statements are used to query the database and retrieve specific data based on specified criteria. The most commonly used DQL statement is SELECT.\n",
    "\n",
    "SELECT is used to retrieve data from one or more tables in a database. It allows you to specify the columns to retrieve, the table or tables to retrieve them from, and any conditions that the retrieved data must meet. Here's an example of a SELECT statement:"
   ]
  },
  {
   "cell_type": "code",
   "execution_count": null,
   "id": "0e610df0-9e55-4789-aa00-f5e8b40f2e68",
   "metadata": {},
   "outputs": [],
   "source": [
    "SELECT name, email FROM users WHERE age > 25;"
   ]
  },
  {
   "cell_type": "markdown",
   "id": "97ae541e-8741-4b6f-a135-3b30bdf6fdd2",
   "metadata": {},
   "source": [
    "Q5. Explain Primary Key and Foreign Key."
   ]
  },
  {
   "cell_type": "markdown",
   "id": "805d8a9d-8b71-4820-8ecb-72dc92ca1ccc",
   "metadata": {},
   "source": [
    "A primary key is a column or set of columns in a table that uniquely identifies each row or record in that table. It ensures that each row in the table is uniquely identifiable and is used to enforce data integrity constraints. A primary key column cannot contain null values and must have a unique value for each row."
   ]
  },
  {
   "cell_type": "markdown",
   "id": "e8bcb8a2-78a1-4ca4-9cec-ed38fbe0800b",
   "metadata": {},
   "source": [
    "A foreign key is a column or set of columns in a table that refers to the primary key of another table. It establishes a link between two tables, which allows data to be retrieved from multiple tables using a single query. A foreign key is used to enforce referential integrity constraints, which ensure that the data in the foreign key column matches the data in the primary key column of the other table."
   ]
  },
  {
   "cell_type": "markdown",
   "id": "afe0d991-5505-4cf4-80ec-5c8b1ef5ff87",
   "metadata": {},
   "source": [
    "Q6. Write a python code to connect MySQL to python. Explain the cursor() and execute() method."
   ]
  },
  {
   "cell_type": "markdown",
   "id": "07948dd7-244e-4ef4-8347-68cbbed1b8a2",
   "metadata": {},
   "source": [
    "To connect MySQL to Python, we need to have the mysql-connector-python library installed. We can install it using pip, like this:"
   ]
  },
  {
   "cell_type": "code",
   "execution_count": 2,
   "id": "7a764483-564e-46c9-994c-39c119022b3d",
   "metadata": {},
   "outputs": [
    {
     "name": "stdout",
     "output_type": "stream",
     "text": [
      "Collecting mysql-connector-python\n",
      "  Downloading mysql_connector_python-8.0.33-cp310-cp310-manylinux1_x86_64.whl (27.4 MB)\n",
      "\u001b[2K     \u001b[90m━━━━━━━━━━━━━━━━━━━━━━━━━━━━━━━━━━━━━━━━\u001b[0m \u001b[32m27.4/27.4 MB\u001b[0m \u001b[31m51.0 MB/s\u001b[0m eta \u001b[36m0:00:00\u001b[0m00:01\u001b[0m00:01\u001b[0m\n",
      "\u001b[?25hCollecting protobuf<=3.20.3,>=3.11.0\n",
      "  Downloading protobuf-3.20.3-cp310-cp310-manylinux_2_12_x86_64.manylinux2010_x86_64.whl (1.1 MB)\n",
      "\u001b[2K     \u001b[90m━━━━━━━━━━━━━━━━━━━━━━━━━━━━━━━━━━━━━━━━\u001b[0m \u001b[32m1.1/1.1 MB\u001b[0m \u001b[31m71.6 MB/s\u001b[0m eta \u001b[36m0:00:00\u001b[0m\n",
      "\u001b[?25hInstalling collected packages: protobuf, mysql-connector-python\n",
      "  Attempting uninstall: protobuf\n",
      "    Found existing installation: protobuf 4.21.11\n",
      "    Uninstalling protobuf-4.21.11:\n",
      "      Successfully uninstalled protobuf-4.21.11\n",
      "Successfully installed mysql-connector-python-8.0.33 protobuf-3.20.3\n",
      "Note: you may need to restart the kernel to use updated packages.\n"
     ]
    }
   ],
   "source": [
    "pip install mysql-connector-python"
   ]
  },
  {
   "cell_type": "markdown",
   "id": "feeec681-32c2-4f8b-a263-b60b719ae729",
   "metadata": {},
   "source": [
    "Once we have installed the library, we can connect to a MySQL database using the following Python code:"
   ]
  },
  {
   "cell_type": "code",
   "execution_count": null,
   "id": "d2b83fd0-70ad-41a2-8b72-67caf2c53a4e",
   "metadata": {},
   "outputs": [],
   "source": [
    "import mysql.connector\n",
    "\n",
    "mydb = mysql.connector.connect(\n",
    "  host=\"localhost\",\n",
    "  user=\"username\",\n",
    "  password=\"password\",\n",
    "  database=\"database\"\n",
    ")\n",
    "\n",
    "mycursor = mydb.cursor()"
   ]
  },
  {
   "cell_type": "markdown",
   "id": "a069cb49-84e5-4d8a-8cdc-149888b6d0a2",
   "metadata": {},
   "source": [
    "In this code, we first import the mysql.connector module and use the connect() method to establish a connection to the MySQL database. We need to provide the database connection details, such as the host, username, password, and database name.\n",
    "\n",
    "After establishing the connection, we create a cursor object using the cursor() method of the database connection object. The cursor object allows us to execute SQL statements on the database.\n",
    "\n",
    "The execute() method is used to execute an SQL statement on the database using the cursor object. It takes an SQL statement as its parameter and returns the result of the statement, if any. Here's an example of how to use the execute() method to execute a SELECT statement:"
   ]
  },
  {
   "cell_type": "code",
   "execution_count": null,
   "id": "c2272cb6-baee-479d-bcd3-0376c1bd75a8",
   "metadata": {},
   "outputs": [],
   "source": [
    "sql = \"SELECT * FROM customers\"\n",
    "\n",
    "mycursor.execute(sql)\n",
    "\n",
    "myresult = mycursor.fetchall()\n",
    "\n",
    "for x in myresult:\n",
    "  print(x)"
   ]
  },
  {
   "cell_type": "markdown",
   "id": "4fe7a06d-5708-4068-a2da-eb30cc9a34b1",
   "metadata": {},
   "source": [
    "In this code, you first define an SQL SELECT statement and store it in the sql variable. You then call the execute() method on the cursor object, passing the sql variable as its parameter. This executes the SELECT statement on the database and returns the result.\n",
    "\n",
    "The fetchall() method is used to fetch all the rows returned by the SELECT statement. It returns a list of tuples, where each tuple represents a row in the result set. You can then loop through the result set and print each row, as shown in the code above.\n",
    "\n",
    "In summary, the cursor() method is used to create a cursor object, which allows you to execute SQL statements on the database. The execute() method is used to execute an SQL statement on the database using the cursor object, and the fetchall() method is used to retrieve the results of the SQL statement."
   ]
  },
  {
   "cell_type": "markdown",
   "id": "90a5ba97-3051-40c0-8a13-96457c5cd007",
   "metadata": {},
   "source": [
    " Q7. Give the order of execution of SQL clauses in an SQL query"
   ]
  },
  {
   "cell_type": "markdown",
   "id": "9b274870-1f24-4c9b-9f8e-5d7f03c3ea46",
   "metadata": {},
   "source": [
    "The order of execution of SQL clauses in an SQL query can be summarized as follows:\n",
    "\n",
    "FROM clause: The FROM clause specifies the table or tables from which the data will be retrieved. If multiple tables are used, they may be joined using the JOIN clause.\n",
    "\n",
    "WHERE clause: The WHERE clause filters the data based on a specified condition or set of conditions. It is used to retrieve only the rows that meet the specified criteria.\n",
    "\n",
    "GROUP BY clause: The GROUP BY clause is used to group the result set by one or more columns. It is often used in conjunction with aggregate functions, such as COUNT, SUM, AVG, etc.\n",
    "\n",
    "HAVING clause: The HAVING clause is used to filter the result set based on a specified condition or set of conditions. It is similar to the WHERE clause, but it is applied after the data has been grouped by the GROUP BY clause.\n",
    "\n",
    "SELECT clause: The SELECT clause specifies the columns that will be included in the result set. It can also be used to apply functions or expressions to the data, such as CONCAT, DATE_FORMAT, etc.\n",
    "\n",
    "ORDER BY clause: The ORDER BY clause is used to sort the result set based on one or more columns. It can sort the data in ascending or descending order.\n",
    "\n",
    "LIMIT clause: The LIMIT clause is used to limit the number of rows returned by the query. It is often used in conjunction with the ORDER BY clause to retrieve the top N rows based on a specified criteria.\n",
    "\n",
    "It's important to note that not all clauses are required in every query. The basic syntax of an SQL query is:"
   ]
  },
  {
   "cell_type": "code",
   "execution_count": null,
   "id": "d5caf1ca-d6b7-4052-bebd-43fdf0cf8683",
   "metadata": {},
   "outputs": [],
   "source": [
    "SELECT column1, column2, ...\n",
    "FROM table_name\n",
    "WHERE condition;"
   ]
  },
  {
   "cell_type": "code",
   "execution_count": null,
   "id": "3c7f2a3e-71fb-49f1-b3c1-5483612c9f49",
   "metadata": {},
   "outputs": [],
   "source": []
  }
 ],
 "metadata": {
  "kernelspec": {
   "display_name": "Python 3 (ipykernel)",
   "language": "python",
   "name": "python3"
  },
  "language_info": {
   "codemirror_mode": {
    "name": "ipython",
    "version": 3
   },
   "file_extension": ".py",
   "mimetype": "text/x-python",
   "name": "python",
   "nbconvert_exporter": "python",
   "pygments_lexer": "ipython3",
   "version": "3.10.8"
  }
 },
 "nbformat": 4,
 "nbformat_minor": 5
}
